{
 "cells": [
  {
   "cell_type": "markdown",
   "metadata": {},
   "source": [
    "## Quarterly Rebalance\n",
    "### Fixed Allocation\n",
    "\n",
    "#### IMPORTANT ACTIONS (Before Executing Program)\n",
    "\n",
    "[MANUAL] Update the unit (shares of ETF currently held) in portfolio variable in CONSTANTS section\n",
    "\n",
    "[OPTIONAL] Optionally update target weights for different fixed allocation"
   ]
  },
  {
   "cell_type": "code",
   "execution_count": 1,
   "metadata": {
    "jupyter": {
     "source_hidden": true
    },
    "tags": []
   },
   "outputs": [],
   "source": [
    "# Display pretty table for dataframe\n",
    "from IPython.display import display\n",
    "\n",
    "import pandas as pd\n",
    "import numpy as np\n",
    "\n",
    "import datetime\n",
    "\n",
    "import yfinance as yf # https://github.com/ranaroussi/yfinance"
   ]
  },
  {
   "cell_type": "code",
   "execution_count": 2,
   "metadata": {},
   "outputs": [],
   "source": [
    "# Initialize portfolio parameters\n",
    "\n",
    "portfolio = {\n",
    "    'TQQQ': {'targ_wt': 0.40, 'cur_unit': 119},\n",
    "    'UPRO': {'targ_wt': 0.20, 'cur_unit': 18.04},\n",
    "    #'MIDU': {'targ_wt': 0.10, 'cur_unit': 45},\n",
    "    'TMF': {'targ_wt': 0.40, 'cur_unit': 709}\n",
    "}"
   ]
  },
  {
   "cell_type": "code",
   "execution_count": 3,
   "metadata": {
    "jupyter": {
     "source_hidden": true
    },
    "tags": []
   },
   "outputs": [
    {
     "name": "stdout",
     "output_type": "stream",
     "text": [
      "[*********************100%***********************]  3 of 3 completed\n"
     ]
    }
   ],
   "source": [
    "# Download last price from yFinance\n",
    "tickers = list(portfolio.keys())\n",
    "hist_df = yf.download(tickers, period = \"5d\", interval = \"1d\")"
   ]
  },
  {
   "cell_type": "code",
   "execution_count": 4,
   "metadata": {
    "jupyter": {
     "source_hidden": true
    },
    "tags": []
   },
   "outputs": [],
   "source": [
    "# convert portfolio to DF to keep track other datapoints\n",
    "port_df = pd.DataFrame.from_dict(data = portfolio, orient='index')\n",
    "port_df.index.name = 'ticker'\n",
    "port_df['last_price'] = hist_df['Adj Close'].iloc[-1]\n",
    "port_df['cur_val'] = port_df['cur_unit'] * port_df['last_price']\n",
    "port_df['cur_wt'] = port_df['cur_val'] / port_df['cur_val'].sum()\n",
    "port_df['last_date'] = hist_df.index[-1]"
   ]
  },
  {
   "cell_type": "code",
   "execution_count": 5,
   "metadata": {
    "jupyter": {
     "source_hidden": true
    },
    "tags": []
   },
   "outputs": [
    {
     "data": {
      "text/html": [
       "<div>\n",
       "<style scoped>\n",
       "    .dataframe tbody tr th:only-of-type {\n",
       "        vertical-align: middle;\n",
       "    }\n",
       "\n",
       "    .dataframe tbody tr th {\n",
       "        vertical-align: top;\n",
       "    }\n",
       "\n",
       "    .dataframe thead th {\n",
       "        text-align: right;\n",
       "    }\n",
       "</style>\n",
       "<table border=\"1\" class=\"dataframe\">\n",
       "  <thead>\n",
       "    <tr style=\"text-align: right;\">\n",
       "      <th></th>\n",
       "      <th>targ_wt</th>\n",
       "      <th>cur_unit</th>\n",
       "      <th>last_price</th>\n",
       "      <th>cur_val</th>\n",
       "      <th>cur_wt</th>\n",
       "      <th>last_date</th>\n",
       "      <th>new_unit_reb</th>\n",
       "      <th>trans_unit_reb</th>\n",
       "    </tr>\n",
       "    <tr>\n",
       "      <th>ticker</th>\n",
       "      <th></th>\n",
       "      <th></th>\n",
       "      <th></th>\n",
       "      <th></th>\n",
       "      <th></th>\n",
       "      <th></th>\n",
       "      <th></th>\n",
       "      <th></th>\n",
       "    </tr>\n",
       "  </thead>\n",
       "  <tbody>\n",
       "    <tr>\n",
       "      <th>TQQQ</th>\n",
       "      <td>0.4</td>\n",
       "      <td>119.00</td>\n",
       "      <td>30.24</td>\n",
       "      <td>3598.559973</td>\n",
       "      <td>0.281284</td>\n",
       "      <td>2022-08-26</td>\n",
       "      <td>169.0</td>\n",
       "      <td>50.00</td>\n",
       "    </tr>\n",
       "    <tr>\n",
       "      <th>UPRO</th>\n",
       "      <td>0.2</td>\n",
       "      <td>18.04</td>\n",
       "      <td>42.00</td>\n",
       "      <td>757.680000</td>\n",
       "      <td>0.059225</td>\n",
       "      <td>2022-08-26</td>\n",
       "      <td>61.0</td>\n",
       "      <td>42.96</td>\n",
       "    </tr>\n",
       "    <tr>\n",
       "      <th>TMF</th>\n",
       "      <td>0.4</td>\n",
       "      <td>709.00</td>\n",
       "      <td>11.90</td>\n",
       "      <td>8437.099730</td>\n",
       "      <td>0.659492</td>\n",
       "      <td>2022-08-26</td>\n",
       "      <td>430.0</td>\n",
       "      <td>-279.00</td>\n",
       "    </tr>\n",
       "  </tbody>\n",
       "</table>\n",
       "</div>"
      ],
      "text/plain": [
       "        targ_wt  cur_unit  last_price      cur_val    cur_wt  last_date  \\\n",
       "ticker                                                                    \n",
       "TQQQ        0.4    119.00       30.24  3598.559973  0.281284 2022-08-26   \n",
       "UPRO        0.2     18.04       42.00   757.680000  0.059225 2022-08-26   \n",
       "TMF         0.4    709.00       11.90  8437.099730  0.659492 2022-08-26   \n",
       "\n",
       "        new_unit_reb  trans_unit_reb  \n",
       "ticker                                \n",
       "TQQQ           169.0           50.00  \n",
       "UPRO            61.0           42.96  \n",
       "TMF            430.0         -279.00  "
      ]
     },
     "metadata": {},
     "output_type": "display_data"
    }
   ],
   "source": [
    "# Reblance portfolio\n",
    "port_df['new_unit_reb'] = round(port_df['targ_wt'] * \\\n",
    "                                port_df['cur_val'].sum() / port_df['last_price'])\n",
    "\n",
    "# Unit that need to be transacted to rebalance portfolio. (-)ve sell, (+)ve buy\n",
    "# Requires no new funds to be added\n",
    "port_df['trans_unit_reb'] = port_df['new_unit_reb'] - port_df['cur_unit']\n",
    "display(port_df)"
   ]
  },
  {
   "cell_type": "code",
   "execution_count": 6,
   "metadata": {
    "jupyter": {
     "source_hidden": true
    },
    "tags": []
   },
   "outputs": [],
   "source": [
    "# Rebalance by adding/removing funds\n",
    "port_df['fund_add'] = (port_df['cur_val'] / port_df['targ_wt']) - port_df['cur_val'].sum()"
   ]
  },
  {
   "cell_type": "code",
   "execution_count": 7,
   "metadata": {
    "jupyter": {
     "source_hidden": true
    },
    "tags": []
   },
   "outputs": [
    {
     "data": {
      "text/html": [
       "<div>\n",
       "<style scoped>\n",
       "    .dataframe tbody tr th:only-of-type {\n",
       "        vertical-align: middle;\n",
       "    }\n",
       "\n",
       "    .dataframe tbody tr th {\n",
       "        vertical-align: top;\n",
       "    }\n",
       "\n",
       "    .dataframe thead th {\n",
       "        text-align: right;\n",
       "    }\n",
       "</style>\n",
       "<table border=\"1\" class=\"dataframe\">\n",
       "  <thead>\n",
       "    <tr style=\"text-align: right;\">\n",
       "      <th></th>\n",
       "      <th>targ_wt</th>\n",
       "      <th>cur_unit</th>\n",
       "      <th>last_price</th>\n",
       "      <th>cur_val</th>\n",
       "      <th>cur_wt</th>\n",
       "      <th>last_date</th>\n",
       "      <th>new_unit_reb</th>\n",
       "      <th>trans_unit_reb</th>\n",
       "      <th>fund_add</th>\n",
       "      <th>new_unit_TQQQ</th>\n",
       "      <th>new_unit_UPRO</th>\n",
       "      <th>new_unit_TMF</th>\n",
       "      <th>trans_unit_TQQQ</th>\n",
       "      <th>trans_unit_UPRO</th>\n",
       "      <th>trans_unit_TMF</th>\n",
       "    </tr>\n",
       "    <tr>\n",
       "      <th>ticker</th>\n",
       "      <th></th>\n",
       "      <th></th>\n",
       "      <th></th>\n",
       "      <th></th>\n",
       "      <th></th>\n",
       "      <th></th>\n",
       "      <th></th>\n",
       "      <th></th>\n",
       "      <th></th>\n",
       "      <th></th>\n",
       "      <th></th>\n",
       "      <th></th>\n",
       "      <th></th>\n",
       "      <th></th>\n",
       "      <th></th>\n",
       "    </tr>\n",
       "  </thead>\n",
       "  <tbody>\n",
       "    <tr>\n",
       "      <th>TQQQ</th>\n",
       "      <td>0.4</td>\n",
       "      <td>119.00</td>\n",
       "      <td>30.24</td>\n",
       "      <td>3598.559973</td>\n",
       "      <td>0.281284</td>\n",
       "      <td>2022-08-26</td>\n",
       "      <td>169.0</td>\n",
       "      <td>50.00</td>\n",
       "      <td>-3796.939770</td>\n",
       "      <td>119.0</td>\n",
       "      <td>50.0</td>\n",
       "      <td>279.0</td>\n",
       "      <td>0.00</td>\n",
       "      <td>-69.00</td>\n",
       "      <td>160.00</td>\n",
       "    </tr>\n",
       "    <tr>\n",
       "      <th>UPRO</th>\n",
       "      <td>0.2</td>\n",
       "      <td>18.04</td>\n",
       "      <td>42.00</td>\n",
       "      <td>757.680000</td>\n",
       "      <td>0.059225</td>\n",
       "      <td>2022-08-26</td>\n",
       "      <td>61.0</td>\n",
       "      <td>42.96</td>\n",
       "      <td>-9004.939702</td>\n",
       "      <td>43.0</td>\n",
       "      <td>18.0</td>\n",
       "      <td>100.0</td>\n",
       "      <td>24.96</td>\n",
       "      <td>-0.04</td>\n",
       "      <td>81.96</td>\n",
       "    </tr>\n",
       "    <tr>\n",
       "      <th>TMF</th>\n",
       "      <td>0.4</td>\n",
       "      <td>709.00</td>\n",
       "      <td>11.90</td>\n",
       "      <td>8437.099730</td>\n",
       "      <td>0.659492</td>\n",
       "      <td>2022-08-26</td>\n",
       "      <td>430.0</td>\n",
       "      <td>-279.00</td>\n",
       "      <td>8299.409622</td>\n",
       "      <td>302.0</td>\n",
       "      <td>127.0</td>\n",
       "      <td>709.0</td>\n",
       "      <td>-407.00</td>\n",
       "      <td>-582.00</td>\n",
       "      <td>0.00</td>\n",
       "    </tr>\n",
       "  </tbody>\n",
       "</table>\n",
       "</div>"
      ],
      "text/plain": [
       "        targ_wt  cur_unit  last_price      cur_val    cur_wt  last_date  \\\n",
       "ticker                                                                    \n",
       "TQQQ        0.4    119.00       30.24  3598.559973  0.281284 2022-08-26   \n",
       "UPRO        0.2     18.04       42.00   757.680000  0.059225 2022-08-26   \n",
       "TMF         0.4    709.00       11.90  8437.099730  0.659492 2022-08-26   \n",
       "\n",
       "        new_unit_reb  trans_unit_reb     fund_add  new_unit_TQQQ  \\\n",
       "ticker                                                             \n",
       "TQQQ           169.0           50.00 -3796.939770          119.0   \n",
       "UPRO            61.0           42.96 -9004.939702           43.0   \n",
       "TMF            430.0         -279.00  8299.409622          302.0   \n",
       "\n",
       "        new_unit_UPRO  new_unit_TMF  trans_unit_TQQQ  trans_unit_UPRO  \\\n",
       "ticker                                                                  \n",
       "TQQQ             50.0         279.0             0.00           -69.00   \n",
       "UPRO             18.0         100.0            24.96            -0.04   \n",
       "TMF             127.0         709.0          -407.00          -582.00   \n",
       "\n",
       "        trans_unit_TMF  \n",
       "ticker                  \n",
       "TQQQ            160.00  \n",
       "UPRO             81.96  \n",
       "TMF               0.00  "
      ]
     },
     "metadata": {},
     "output_type": "display_data"
    }
   ],
   "source": [
    "# Unit that need to be transacted, (-ve) sell, (+ve) buy\n",
    "# The [trans_unit_+ticker] column shows the unit transacted when ticker units are not transacted\n",
    "# The [fund_add] column value for row when ticker units are zero, shows fund that need to be \n",
    "# added/removed.\n",
    "\n",
    "for ticker in port_df.index:\n",
    "    new_unit = f\"new_unit_{ticker}\"\n",
    "    trans_unit = f\"trans_unit_{ticker}\"\n",
    "    port_df[new_unit] = \\\n",
    "    round((port_df.at[ticker, 'fund_add'] + \\\n",
    "           port_df['cur_val'].sum()) * port_df['targ_wt'] / port_df['last_price'])\n",
    "\n",
    "for ticker in port_df.index:\n",
    "    new_unit = f\"new_unit_{ticker}\"\n",
    "    trans_unit = f\"trans_unit_{ticker}\"\n",
    "    port_df[trans_unit] = port_df[new_unit] - port_df['cur_unit']\n",
    "    \n",
    "# Save to a CSV file for future reference\n",
    "file_name = 'data/rebalance_{}.csv'.format(hist_df.index[-1].date())\n",
    "port_df.to_csv(file_name)\n",
    "\n",
    "display(port_df)"
   ]
  },
  {
   "cell_type": "code",
   "execution_count": null,
   "metadata": {},
   "outputs": [],
   "source": []
  }
 ],
 "metadata": {
  "kernelspec": {
   "display_name": "Python 3 (ipykernel)",
   "language": "python",
   "name": "python3"
  },
  "language_info": {
   "codemirror_mode": {
    "name": "ipython",
    "version": 3
   },
   "file_extension": ".py",
   "mimetype": "text/x-python",
   "name": "python",
   "nbconvert_exporter": "python",
   "pygments_lexer": "ipython3",
   "version": "3.8.13"
  }
 },
 "nbformat": 4,
 "nbformat_minor": 4
}
